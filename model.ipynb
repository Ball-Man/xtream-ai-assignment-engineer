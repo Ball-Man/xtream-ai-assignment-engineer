{
 "cells": [
  {
   "cell_type": "code",
   "execution_count": null,
   "id": "8940fb1a-a2cd-4af7-ab97-123a04ac13e4",
   "metadata": {},
   "outputs": [],
   "source": [
    "from sklearn.model_selection import GridSearchCV\n",
    "from sklearn.inspection import PartialDependenceDisplay\n",
    "from matplotlib import pyplot as plt\n",
    "\n",
    "from diamond import data\n",
    "from diamond import model"
   ]
  },
  {
   "cell_type": "code",
   "execution_count": null,
   "id": "119985ba",
   "metadata": {},
   "outputs": [],
   "source": [
    "X_train, X_test, y_train, y_test = data.split(\n",
    "    *data.get_X_y(data.clean(data.load_raw('datasets/diamonds/diamonds.csv'))))"
   ]
  },
  {
   "cell_type": "code",
   "execution_count": null,
   "id": "789de1b3",
   "metadata": {},
   "outputs": [],
   "source": [
    "model.pipeline"
   ]
  },
  {
   "cell_type": "code",
   "execution_count": null,
   "id": "dd1a7a39",
   "metadata": {},
   "outputs": [],
   "source": [
    "parameter_grid = model.make_params(model.DEFAULT_USER_PARAMETER_GRID)\n",
    "model.DEFAULT_USER_PARAMETER_GRID"
   ]
  },
  {
   "cell_type": "code",
   "execution_count": null,
   "id": "d74586c9",
   "metadata": {},
   "outputs": [],
   "source": [
    "search = GridSearchCV(model.pipeline, scoring='r2', param_grid=parameter_grid,\n",
    "                      refit=True)\n",
    "search.fit(X_train, y_train)\n",
    "search.best_estimator_"
   ]
  },
  {
   "cell_type": "code",
   "execution_count": null,
   "id": "52e9f393",
   "metadata": {},
   "outputs": [],
   "source": [
    "search.best_score_"
   ]
  },
  {
   "cell_type": "code",
   "execution_count": null,
   "id": "1e91673c",
   "metadata": {},
   "outputs": [],
   "source": [
    "for params, score in zip(search.cv_results_['params'],\n",
    "                         search.cv_results_['mean_test_score']):\n",
    "    print(params, score)"
   ]
  },
  {
   "cell_type": "code",
   "execution_count": null,
   "id": "09b97876",
   "metadata": {},
   "outputs": [],
   "source": [
    "print(search.best_params_)\n",
    "print(search.best_estimator_.named_steps['linear'].regressor_.coef_)\n",
    "print(search.best_estimator_.named_steps['linear'].regressor_.intercept_)"
   ]
  },
  {
   "cell_type": "code",
   "execution_count": null,
   "id": "ffcce02e",
   "metadata": {},
   "outputs": [],
   "source": [
    "X_trans = data.sequential_encoder.fit_transform(X_train)\n",
    "\n",
    "_, ax = plt.subplots(figsize=(10, 7))\n",
    "PartialDependenceDisplay.from_estimator(search.best_estimator_[1:], X_trans,\n",
    "                                        ('carat', 'cut', 'color', 'clarity'),\n",
    "                                        kind='both', centered=True, ax=ax,\n",
    "                                        n_cols=2)\n",
    "plt.show()"
   ]
  }
 ],
 "metadata": {
  "kernelspec": {
   "display_name": "venv",
   "language": "python",
   "name": "python3"
  },
  "language_info": {
   "codemirror_mode": {
    "name": "ipython",
    "version": 3
   },
   "file_extension": ".py",
   "mimetype": "text/x-python",
   "name": "python",
   "nbconvert_exporter": "python",
   "pygments_lexer": "ipython3",
   "version": "3.11.8"
  }
 },
 "nbformat": 4,
 "nbformat_minor": 5
}
