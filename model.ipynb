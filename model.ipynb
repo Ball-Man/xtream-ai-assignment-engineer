{
 "cells": [
  {
   "cell_type": "code",
   "execution_count": null,
   "id": "8940fb1a-a2cd-4af7-ab97-123a04ac13e4",
   "metadata": {},
   "outputs": [],
   "source": [
    "import numpy as np\n",
    "from sklearn.compose import make_column_transformer, TransformedTargetRegressor\n",
    "from sklearn.pipeline import Pipeline\n",
    "from sklearn.preprocessing import StandardScaler\n",
    "from sklearn.model_selection import GridSearchCV\n",
    "from sklearn.linear_model import LinearRegression\n",
    "\n",
    "from diamond import data"
   ]
  },
  {
   "cell_type": "code",
   "execution_count": null,
   "id": "119985ba",
   "metadata": {},
   "outputs": [],
   "source": [
    "X_train, X_test, y_train, y_test = data.split(\n",
    "    *data.get_X_y(data.clean(data.load_raw('datasets/diamonds/diamonds.csv'))))"
   ]
  },
  {
   "cell_type": "code",
   "execution_count": null,
   "id": "789de1b3",
   "metadata": {},
   "outputs": [],
   "source": [
    "sequential_encoder = make_column_transformer(\n",
    "    (data.cut_grades_encoder, ['cut']),\n",
    "    (data.color_encoder, ['color']),\n",
    "    (data.clarity_encoder, ['clarity']),\n",
    "    remainder='passthrough',\n",
    "    verbose_feature_names_out=False\n",
    ")\n",
    "\n",
    "column_log_transformer = make_column_transformer(\n",
    "    (data.log_transformer, ['x', 'y', 'z', 'volume', 'carat']),\n",
    "    remainder='passthrough',\n",
    "    verbose_feature_names_out=False\n",
    ")\n",
    "\n",
    "pipeline = Pipeline(\n",
    "    steps=[\n",
    "        ('encoder', sequential_encoder),\n",
    "        ('volume_extractor', data.VolumeFeatureExtractor()),\n",
    "        ('eccentricity_extractor', data.EccentricityFeatureExtractor()),\n",
    "        ('table_extractor', data.TableDistanceExtractor()),\n",
    "        ('depth_extractor', data.DepthDistanceExtractor()),\n",
    "        ('log_transformer', column_log_transformer),\n",
    "        ('scaler', StandardScaler()),\n",
    "        ('selector', 'passthrough'),\n",
    "        # ('linear', TransformedTargetRegressor(\n",
    "        #     LinearRegression(), transformer=data.log_transformer))\n",
    "        ('linear', TransformedTargetRegressor(\n",
    "            LinearRegression(positive=True), func=np.log, inverse_func=np.exp))\n",
    "    ]\n",
    ")\n",
    "pipeline.set_output(transform='pandas')"
   ]
  },
  {
   "cell_type": "code",
   "execution_count": null,
   "id": "d74586c9",
   "metadata": {},
   "outputs": [],
   "source": [
    "parameter_grid = {\n",
    "    'selector': (\n",
    "        data.make_feature_selector('carat'),\n",
    "        data.make_feature_selector('volume'),\n",
    "        data.make_feature_selector('carat', 'cut', 'color', 'clarity'),\n",
    "        data.make_feature_selector('carat', 'cut', 'color', 'clarity',\n",
    "                                   'eccentricity'),\n",
    "        data.make_feature_selector('volume', 'cut', 'color', 'clarity'),\n",
    "        data.make_feature_selector('volume', 'cut', 'color', 'clarity',\n",
    "                                   'eccentricity'),\n",
    "        data.make_feature_selector('carat', 'table', 'depth_distance',\n",
    "                                   'eccentricity', 'color', 'clarity'),\n",
    "        data.make_feature_selector('volume', 'table', 'depth_distance',\n",
    "                                   'eccentricity', 'color', 'clarity')\n",
    "    ),\n",
    "    'linear__regressor__positive': [True, False]\n",
    "}\n",
    "\n",
    "search = GridSearchCV(pipeline, scoring='r2', param_grid=parameter_grid,\n",
    "                      refit=True)\n",
    "search.fit(X_train, y_train)"
   ]
  },
  {
   "cell_type": "code",
   "execution_count": null,
   "id": "52e9f393",
   "metadata": {},
   "outputs": [],
   "source": [
    "search.best_score_"
   ]
  },
  {
   "cell_type": "code",
   "execution_count": null,
   "id": "1e91673c",
   "metadata": {},
   "outputs": [],
   "source": [
    "for params, score in zip(search.cv_results_['params'],\n",
    "                         search.cv_results_['mean_test_score']):\n",
    "    print(params, score)"
   ]
  },
  {
   "cell_type": "code",
   "execution_count": null,
   "id": "09b97876",
   "metadata": {},
   "outputs": [],
   "source": [
    "print(search.best_params_)\n",
    "print(search.best_estimator_.named_steps['linear'].regressor_.coef_)\n",
    "# print(search.best_estimator_.named_steps['linear'].regressor_.intercept_)"
   ]
  }
 ],
 "metadata": {
  "kernelspec": {
   "display_name": "venv",
   "language": "python",
   "name": "python3"
  },
  "language_info": {
   "codemirror_mode": {
    "name": "ipython",
    "version": 3
   },
   "file_extension": ".py",
   "mimetype": "text/x-python",
   "name": "python",
   "nbconvert_exporter": "python",
   "pygments_lexer": "ipython3",
   "version": "3.11.8"
  }
 },
 "nbformat": 4,
 "nbformat_minor": 5
}
