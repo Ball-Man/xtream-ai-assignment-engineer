{
 "cells": [
  {
   "cell_type": "code",
   "execution_count": null,
   "id": "8940fb1a-a2cd-4af7-ab97-123a04ac13e4",
   "metadata": {},
   "outputs": [],
   "source": [
    "import numpy as np\n",
    "from sklearn.compose import make_column_transformer, TransformedTargetRegressor\n",
    "from sklearn.pipeline import Pipeline\n",
    "from sklearn.preprocessing import StandardScaler\n",
    "from sklearn.linear_model import LinearRegression\n",
    "\n",
    "from diamond import data"
   ]
  },
  {
   "cell_type": "code",
   "execution_count": null,
   "id": "119985ba",
   "metadata": {},
   "outputs": [],
   "source": [
    "X_train, X_test, y_train, y_test = data.split(\n",
    "    *data.get_X_y(data.clean(data.load_raw('datasets/diamonds/diamonds.csv'))))"
   ]
  },
  {
   "cell_type": "code",
   "execution_count": null,
   "id": "789de1b3",
   "metadata": {},
   "outputs": [],
   "source": [
    "sequential_encoder = make_column_transformer(\n",
    "    (data.cut_grades_encoder, ['cut']),\n",
    "    (data.color_encoder, ['color']),\n",
    "    (data.clarity_encoder, ['clarity']),\n",
    "    remainder='passthrough',\n",
    "    verbose_feature_names_out=False\n",
    ")\n",
    "\n",
    "column_log_transformer = make_column_transformer(\n",
    "    (data.log_transformer, ['x', 'y', 'z', 'volume', 'carat']),\n",
    "    remainder='passthrough',\n",
    "    verbose_feature_names_out=False\n",
    ")\n",
    "\n",
    "pipeline = Pipeline(\n",
    "    steps=(\n",
    "        ('encoder', sequential_encoder),\n",
    "        ('volume_extractor', data.VolumeFeatureExtractor()),\n",
    "        ('eccentricity_extractor', data.EccentricityFeatureExtractor()),\n",
    "        ('table_extractor', data.TableDistanceExtractor()),\n",
    "        ('depth_extractor', data.DepthDistanceExtractor()),\n",
    "        ('log_transformer', column_log_transformer),\n",
    "        ('selector', 'passthrough'),\n",
    "        ('scaler', StandardScaler()),\n",
    "        ('linear', TransformedTargetRegressor(\n",
    "            LinearRegression(), transformer=data.log_transformer))\n",
    "    )\n",
    ")\n",
    "pipeline.set_output(transform='pandas')"
   ]
  },
  {
   "cell_type": "code",
   "execution_count": null,
   "id": "786a81a6",
   "metadata": {},
   "outputs": [],
   "source": [
    "pipeline.fit(X_train, y_train)\n",
    "\n",
    "pipeline.score(X_train, y_train)"
   ]
  },
  {
   "cell_type": "code",
   "execution_count": null,
   "id": "c226db78",
   "metadata": {},
   "outputs": [],
   "source": [
    "pipeline.predict(X_train)"
   ]
  }
 ],
 "metadata": {
  "kernelspec": {
   "display_name": "venv",
   "language": "python",
   "name": "python3"
  },
  "language_info": {
   "codemirror_mode": {
    "name": "ipython",
    "version": 3
   },
   "file_extension": ".py",
   "mimetype": "text/x-python",
   "name": "python",
   "nbconvert_exporter": "python",
   "pygments_lexer": "ipython3",
   "version": "3.11.8"
  }
 },
 "nbformat": 4,
 "nbformat_minor": 5
}
