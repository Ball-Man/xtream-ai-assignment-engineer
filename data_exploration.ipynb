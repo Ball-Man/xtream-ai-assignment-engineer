{
 "cells": [
  {
   "cell_type": "markdown",
   "id": "551b15d5",
   "metadata": {},
   "source": [
    "# Data exploration\n",
    "This notebook aims to study the structure of the given raw data. Data cleaning, feature engineering and domain knowledge considerations are also part of this study."
   ]
  },
  {
   "cell_type": "code",
   "execution_count": null,
   "id": "cbb1f17c-8dbc-47ef-89be-e2c1f7760404",
   "metadata": {},
   "outputs": [],
   "source": [
    "import numpy as np\n",
    "import pandas as pd\n",
    "from matplotlib import pyplot as plt\n",
    "import seaborn as sns\n",
    "\n",
    "from diamond import data"
   ]
  },
  {
   "cell_type": "markdown",
   "id": "72cef13e",
   "metadata": {},
   "source": [
    "## Loading and prelimiaries\n",
    "Data is loaded and quickly inspected."
   ]
  },
  {
   "cell_type": "code",
   "execution_count": null,
   "id": "e78be461",
   "metadata": {},
   "outputs": [],
   "source": [
    "df = data.load_raw('datasets/diamonds/diamonds.csv')\n",
    "\n",
    "print('Columns', df.dtypes, sep='\\n')\n",
    "df.head()"
   ]
  },
  {
   "cell_type": "markdown",
   "id": "a35a0546",
   "metadata": {},
   "source": [
    "Are there missing values?"
   ]
  },
  {
   "cell_type": "code",
   "execution_count": null,
   "id": "721879f0",
   "metadata": {},
   "outputs": [],
   "source": [
    "df.isna().any().any()"
   ]
  },
  {
   "cell_type": "markdown",
   "id": "835cb8b2",
   "metadata": {},
   "source": [
    "Visual inspection of the data shows that a low number of decimal values is considered. All appropriate values are converted to single precision floating point, which comes without loss of information in this case. Prices are also converted to floating point values, in order to be more manageable by machine learning tools later in the pipeline."
   ]
  },
  {
   "cell_type": "code",
   "execution_count": null,
   "id": "fef82d91",
   "metadata": {},
   "outputs": [],
   "source": [
    "df = df.astype({\n",
    "    'carat': np.float32,\n",
    "    'depth': np.float32,\n",
    "    'table': np.float32,\n",
    "    'price': np.float32,\n",
    "    'x': np.float32,\n",
    "    'y': np.float32,\n",
    "    'z': np.float32,\n",
    "})"
   ]
  },
  {
   "cell_type": "code",
   "execution_count": null,
   "id": "59bb682e",
   "metadata": {},
   "outputs": [],
   "source": [
    "df.dtypes"
   ]
  },
  {
   "cell_type": "markdown",
   "id": "4934ef6e",
   "metadata": {},
   "source": [
    "Let's see the account value of Don Francesco's investments. This will come handy when making scalability considerations."
   ]
  },
  {
   "cell_type": "code",
   "execution_count": null,
   "id": "89bd65f8",
   "metadata": {},
   "outputs": [],
   "source": [
    "print('total diamonds value:', df.price.sum())"
   ]
  },
  {
   "cell_type": "markdown",
   "id": "1603fc9e",
   "metadata": {},
   "source": [
    "## Cleanup\n",
    "Observing some statistics, it is possible to immediately spot invalid samples. The *cut*, *color* and *clarity* features will be examined later, given that they are encoded using human names."
   ]
  },
  {
   "cell_type": "code",
   "execution_count": null,
   "id": "fa9860fa",
   "metadata": {},
   "outputs": [],
   "source": [
    "df.describe()"
   ]
  },
  {
   "cell_type": "markdown",
   "id": "032e362f",
   "metadata": {},
   "source": [
    "From the source of the dataset ([diamonds.csv](datasets/diamonds/README.md)) we know that *depth* and *table* are computed as percentages. Actual measurements (*x*, *y*, *z*) are realistically represented in millimiters, according to [GIA] reports. Measures are reported with two decimals. Negative values and values below 0.01 can be scrapped.\n",
    "\n",
    "[GIA]: https://4cs.gia.edu/en-us/diamond-buying-guide/"
   ]
  },
  {
   "cell_type": "code",
   "execution_count": null,
   "id": "933ab214",
   "metadata": {},
   "outputs": [],
   "source": [
    "df = df[(df.x >= 0.01) & (df.y >= 0.01) & (df.z >= 0.01) & (df.price > 0)]\n",
    "df.describe()"
   ]
  },
  {
   "cell_type": "markdown",
   "id": "84e1de4f",
   "metadata": {},
   "source": [
    "Minimal measures and pricing are now realistic. Indeed, it looks like 0 sized and negative priced diamonds were isolated dirty outliers."
   ]
  },
  {
   "cell_type": "markdown",
   "id": "2911bc74",
   "metadata": {},
   "source": [
    "## Sequential or categorical?\n",
    "*Cut*, *color* and *clarity* are three of the 4Cs. According to [GIA], each of them has a scale of desirability.\n",
    "\n",
    "In particular, the cut grade is classified as:\n",
    "* Excellent\n",
    "* Very good\n",
    "* Good\n",
    "* Fair\n",
    "* Poor\n",
    "\n",
    "Color is classified using a scale from D to Z (D is most desirable). Colors after Z are classified as *fancy color*, and are to be considered outside of the desirability scale (considered separately).\n",
    "\n",
    "Clarity is classified through eleven specific grades, grouped in six categories:\n",
    "* Flawless (FL)\n",
    "* Internally Flawless (IF)\n",
    "* Very, Very Slightly Included (VVS1 and VVS2)\n",
    "* Very Slightly Included (VS1 and VS2)\n",
    "* Slightly Included (SI1 and SI2)\n",
    "* Included (I1, I2, and I3)\n",
    "\n",
    "[GIA]: https://4cs.gia.edu/en-us/4cs-diamond-quality/"
   ]
  },
  {
   "cell_type": "markdown",
   "id": "d50809c1",
   "metadata": {},
   "source": [
    "Visual inspection of the data suggests that these grades were used. Let's take a deeper look."
   ]
  },
  {
   "cell_type": "code",
   "execution_count": null,
   "id": "309a7242",
   "metadata": {},
   "outputs": [],
   "source": [
    "print('Unique cut grades', *df.cut.unique(), sep=', ')\n",
    "print('Unique colors', *df.color.unique(), sep=', ')\n",
    "print('Unique clarities', *df.clarity.unique(), sep=', ')"
   ]
  },
  {
   "cell_type": "markdown",
   "id": "094064ef",
   "metadata": {},
   "source": [
    "First of all, the collection of Don Francesco does not include all the variants. For instance, there are no diamonds of color K or worse, nor poorly graded cuts. Moreover, it looks like the cuts were graded using a slightly different scale, using *Ideal* and *Premium* grades instead of *Excellent* (there is [some feedback about it on the web](https://www.loosediamondsreviews.com/diamondcut.html))."
   ]
  },
  {
   "cell_type": "markdown",
   "id": "cd9ef24d",
   "metadata": {},
   "source": [
    "In order to provide the correct ordering of these grades, it seems reasonable to encode them into sequential values. With scalability in mind, the full range of grades for each of the three Cs are considered."
   ]
  },
  {
   "cell_type": "code",
   "execution_count": null,
   "id": "e2d7c32d",
   "metadata": {},
   "outputs": [],
   "source": [
    "df.cut = data.cut_grades_encoder.fit_transform(df[['cut']])\n",
    "df.color = data.color_encoder.fit_transform(df[['color']])\n",
    "df.clarity = data.clarity_encoder.fit_transform(df[['clarity']])"
   ]
  },
  {
   "cell_type": "code",
   "execution_count": null,
   "id": "38ca8e57",
   "metadata": {},
   "outputs": [],
   "source": [
    "df[[\"cut\", \"color\", \"clarity\"]].describe()"
   ]
  },
  {
   "cell_type": "markdown",
   "id": "428f83a7",
   "metadata": {},
   "source": [
    "## Feature distributions and relations\n",
    "Let's take a look at the feature distributions and their correlations. Later on, new features will be extracted from the given ones in an effort to understand correlations phenomena."
   ]
  },
  {
   "cell_type": "code",
   "execution_count": null,
   "id": "c2a7e9b1",
   "metadata": {},
   "outputs": [],
   "source": [
    "df.hist(figsize=(10, 10), bins=30)\n",
    "plt.tight_layout()\n",
    "plt.show()"
   ]
  },
  {
   "cell_type": "markdown",
   "id": "462ca25f",
   "metadata": {},
   "source": [
    "Don Francesco prefers diamonds with good cuts and colors. Prices follow some tailed distribution, similar to an exponential distribution. *Depth* and *table* are seamingly gaussian distributed, with some outliers. Absolute measures (*x*, *y*, *z*) seem quite correlated to the *carats*. There is a small peak of diamonds weighting ~1 carat, which reflects onto price and dimensions as well. The 1 carat phenomenon can be brought back to the popularity of 1 carat jewelry, such as engagement rings.\n",
    "\n",
    "Taking a look at a correlation matrix confirms some of these observations."
   ]
  },
  {
   "cell_type": "code",
   "execution_count": null,
   "id": "9795b309",
   "metadata": {},
   "outputs": [],
   "source": [
    "plt.figure(figsize=(10, 10))\n",
    "sns.heatmap(df.corr(), annot=True, vmin=-1, vmax=1)\n",
    "plt.show()"
   ]
  },
  {
   "cell_type": "markdown",
   "id": "6b232356",
   "metadata": {},
   "source": [
    "The plot shows a very strong correlation between absolute dimensions, carat and price. On the other hand, the other three Cs display some form of inverse correlation with the price and carat. We would expect the 3Cs to have a direct and strong correlation with the price instead. This must be connected to the peculiar collection of Don Francesco, which shows larger diamonds of generally lower quality."
   ]
  },
  {
   "cell_type": "markdown",
   "id": "ee491b14",
   "metadata": {},
   "source": [
    "### Carats and volume\n",
    "The visual similarity between absolute measures' distributions and the carats distribution suggests that carats are related to the size of the diamond. This is expected since the density of diamond mostly constant. Small variations in density can be related to impurities, that is, imperfections [1].\n",
    "\n",
    "We synthetize a new features which represents the volume of the minimum enclosing box of the diamond.\n",
    "\n",
    "[1] Filgueira, Marcello & Pinatti, Daltro. (2001). Production of Diamond Wire by Cu15 v-% Nb \"In situ\" Process. Proc. of the 15th Int. Plausee Seminar. 1. "
   ]
  },
  {
   "cell_type": "code",
   "execution_count": null,
   "id": "6d800ddd",
   "metadata": {},
   "outputs": [],
   "source": [
    "df['volume'] = df.x * df.y * df.z\n",
    "df.volume.describe()"
   ]
  },
  {
   "cell_type": "code",
   "execution_count": null,
   "id": "c4865401",
   "metadata": {},
   "outputs": [],
   "source": [
    "df['4c'] = df.cut * df.carat * df.color * df.clarity"
   ]
  },
  {
   "cell_type": "code",
   "execution_count": null,
   "id": "9c7fef33",
   "metadata": {},
   "outputs": [],
   "source": [
    "plt.figure(figsize=(5, 5))\n",
    "sns.heatmap(df[['x', 'y', 'z', 'volume', 'carat', 'price']].corr(), annot=True,\n",
    "            vmin=-1, vmax=1)\n",
    "plt.show()"
   ]
  },
  {
   "cell_type": "markdown",
   "id": "3d984440",
   "metadata": {},
   "source": [
    "Volume is highly correlated to carats and price. As such, it represents a valuable combination of three features in one. This will be taken into consideration when selecting which features to use for the final predictive model."
   ]
  },
  {
   "cell_type": "markdown",
   "id": "4ecf1ad6",
   "metadata": {},
   "source": [
    "Given the exponential-like distribution of price and carats, we compare them to the volume distribution by applying a lognorm transformation to them. The volume distribution is standardized (mean centered, rescaled by std deviation) as well."
   ]
  },
  {
   "cell_type": "code",
   "execution_count": null,
   "id": "ac642b1e",
   "metadata": {},
   "outputs": [],
   "source": [
    "# Compute log values\n",
    "log_price = np.log(df.price)\n",
    "log_carat = np.log(df.carat)\n",
    "\n",
    "# Center and scale\n",
    "lognorm_price = (log_price - log_price.mean()) / log_price.std()\n",
    "lognorm_carat = (log_carat - log_carat.mean()) / log_carat.std()\n",
    "lognorm_volume = (df.volume - df.volume.mean()) / df.volume.std()\n",
    "\n",
    "sns.kdeplot(\n",
    "    pd.DataFrame({'price': lognorm_price, 'carat': lognorm_carat,\n",
    "                  'volume': lognorm_volume}))\n",
    "plt.show()"
   ]
  },
  {
   "cell_type": "markdown",
   "id": "9e166ead",
   "metadata": {},
   "source": [
    "It is possible to observe how similar the distributions are to each other, showing the two peaks."
   ]
  },
  {
   "cell_type": "markdown",
   "id": "f4d4ea53",
   "metadata": {},
   "source": [
    "### Cut and shape\n",
    "Weirdly enough, exploring the correlation matrix displayed how the data is not showing a direct correlation between cut and diamond price. Since the general consensus considers the cut as the most important of the 4Cs, it is worth exploring it more in detail. Cut grade is determined by complex domain rules and considerations, involving the gem's proportions. Relative table width and pavilion depth are provided by Don Francesco's expert, but are they actually relevant? Or are they absorbed by the cut grade in the end?"
   ]
  },
  {
   "cell_type": "markdown",
   "id": "6405d836",
   "metadata": {},
   "source": [
    "Another property to take into consideration is the gem's shape. Visual inspection shows that *x* and *y* are very similar to each other, suggesting that the collection may comprise only round and/or square cuts (no ovals or other fancy cuts, etc.). We can get a clearer picture by extracting an eccentricity feature."
   ]
  },
  {
   "cell_type": "code",
   "execution_count": null,
   "id": "4f321c74",
   "metadata": {},
   "outputs": [],
   "source": [
    "df['eccentricity'] = np.sqrt(1. - df[['x', 'y']].min(axis=1)\n",
    "                             / df[['x', 'y']].max(axis=1))\n",
    "df.eccentricity.hist()\n",
    "df.eccentricity.describe()"
   ]
  },
  {
   "cell_type": "markdown",
   "id": "908e2b98",
   "metadata": {},
   "source": [
    "Aside from some isolated samples, eccentricity has particularly low mean and variance, suggesting that indeed nearly all gems in the collection are not oval cuts. While a large eccentricity may signal the presence of an elongated fancy cut, a minor eccentricity might just be a defect."
   ]
  },
  {
   "cell_type": "code",
   "execution_count": null,
   "id": "22075dfc",
   "metadata": {},
   "outputs": [],
   "source": [
    "plt.figure(figsize=(5, 5))\n",
    "sns.heatmap(df[['cut', 'table', 'depth', 'eccentricity']].corr(), annot=True,\n",
    "            vmin=-1, vmax=1)\n",
    "plt.show()\n",
    "\n",
    "pd.plotting.scatter_matrix(df[['cut', 'table', 'depth', 'eccentricity']],\n",
    "                           figsize=(7, 7), hist_kwds={'bins': 30})\n",
    "plt.tight_layout()\n",
    "plt.show()\n"
   ]
  }
 ],
 "metadata": {
  "kernelspec": {
   "display_name": "venv",
   "language": "python",
   "name": "python3"
  },
  "language_info": {
   "codemirror_mode": {
    "name": "ipython",
    "version": 3
   },
   "file_extension": ".py",
   "mimetype": "text/x-python",
   "name": "python",
   "nbconvert_exporter": "python",
   "pygments_lexer": "ipython3",
   "version": "3.11.8"
  }
 },
 "nbformat": 4,
 "nbformat_minor": 5
}
