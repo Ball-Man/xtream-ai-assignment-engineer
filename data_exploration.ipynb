{
 "cells": [
  {
   "cell_type": "markdown",
   "id": "551b15d5",
   "metadata": {},
   "source": [
    "# Data exploration\n",
    "Analyze the raw dataset."
   ]
  },
  {
   "cell_type": "code",
   "execution_count": null,
   "id": "cbb1f17c-8dbc-47ef-89be-e2c1f7760404",
   "metadata": {},
   "outputs": [],
   "source": [
    "import numpy as np\n",
    "\n",
    "from diamond import data"
   ]
  },
  {
   "cell_type": "markdown",
   "id": "71b572f6",
   "metadata": {},
   "source": [
    "Load dataset."
   ]
  },
  {
   "cell_type": "code",
   "execution_count": null,
   "id": "e78be461",
   "metadata": {},
   "outputs": [],
   "source": [
    "df = data.load_raw('datasets/diamonds/diamonds.csv')\n",
    "\n",
    "print('Columns', df.dtypes, sep='\\n')\n",
    "df.head()"
   ]
  },
  {
   "cell_type": "markdown",
   "id": "a35a0546",
   "metadata": {},
   "source": [
    "Are there missing values?"
   ]
  },
  {
   "cell_type": "code",
   "execution_count": null,
   "id": "721879f0",
   "metadata": {},
   "outputs": [],
   "source": [
    "df.isna().any().any()"
   ]
  },
  {
   "cell_type": "code",
   "execution_count": null,
   "id": "fef82d91",
   "metadata": {},
   "outputs": [],
   "source": [
    "df = df.astype({\n",
    "    'carat': np.float32,\n",
    "    'depth': np.float32,\n",
    "    'table': np.float32,\n",
    "    'price': np.float32,\n",
    "    'x': np.float32,\n",
    "    'y': np.float32,\n",
    "    'z': np.float32,\n",
    "})"
   ]
  },
  {
   "cell_type": "code",
   "execution_count": null,
   "id": "59bb682e",
   "metadata": {},
   "outputs": [],
   "source": [
    "df.dtypes"
   ]
  },
  {
   "cell_type": "code",
   "execution_count": null,
   "id": "309a7242",
   "metadata": {},
   "outputs": [],
   "source": [
    "df.cut.unique()"
   ]
  },
  {
   "cell_type": "markdown",
   "id": "f18c3301",
   "metadata": {},
   "source": [
    "Real scale: Ideal, Premium, Very Good, Good, Fair, Poor"
   ]
  },
  {
   "cell_type": "code",
   "execution_count": null,
   "id": "1bac99c4",
   "metadata": {},
   "outputs": [],
   "source": [
    "df.color.unique()"
   ]
  },
  {
   "cell_type": "markdown",
   "id": "f1a9abdc",
   "metadata": {},
   "source": [
    "Real scale: D to Z"
   ]
  },
  {
   "cell_type": "code",
   "execution_count": null,
   "id": "21234c6f",
   "metadata": {},
   "outputs": [],
   "source": [
    "df.clarity.unique()"
   ]
  },
  {
   "cell_type": "markdown",
   "id": "0928e571",
   "metadata": {},
   "source": [
    "Real scale: FL, IF, VVS1/2, VS1/2, SI1/2, I1/2/3"
   ]
  },
  {
   "cell_type": "code",
   "execution_count": null,
   "id": "e2d7c32d",
   "metadata": {},
   "outputs": [],
   "source": [
    "df.cut = data.cut_grades_encoder.fit_transform(df[['cut']])\n",
    "df.color = data.color_encoder.fit_transform(df[['color']])\n",
    "df.clarity = data.clarity_encoder.fit_transform(df[['clarity']])"
   ]
  },
  {
   "cell_type": "code",
   "execution_count": null,
   "id": "5711391e",
   "metadata": {},
   "outputs": [],
   "source": [
    "df.head()"
   ]
  }
 ],
 "metadata": {
  "kernelspec": {
   "display_name": "venv",
   "language": "python",
   "name": "python3"
  },
  "language_info": {
   "codemirror_mode": {
    "name": "ipython",
    "version": 3
   },
   "file_extension": ".py",
   "mimetype": "text/x-python",
   "name": "python",
   "nbconvert_exporter": "python",
   "pygments_lexer": "ipython3",
   "version": "3.11.8"
  }
 },
 "nbformat": 4,
 "nbformat_minor": 5
}
